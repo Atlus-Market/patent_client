{
 "cells": [
  {
   "cell_type": "markdown",
   "metadata": {},
   "source": [
    "## Collect a Company's Patent Porfolio\n",
    "\n",
    "This notebook will attempt to amass, for any given company, their entire worldwide patent porfolio.\\*\n",
    "\n",
    "### U.S. Portfolio\n",
    "\n",
    "Collecting their U.S. portfolio will proceed in a few steps:\n",
    "\n",
    "1. Collect all applications ever assigned to the company\n",
    "\n",
    "    a. Those applications naming the company as an applicant\n",
    "    b. Those assigned to the company via an assignment\n",
    "    \n",
    "2. Prune all applications assigned out of the company, as recorded in USPTO assignment records\n",
    "\n",
    "\\*NOTE: I say \"attempt\" because the notebook relies on the USPTO system, and the International Patent Document (INPADOC) service. Not all foreign jurisdictions participate in INPADOC, and not all INPADOC member states are as good at contributing to the system as we would like. So coverage is good, but not perfect."
   ]
  },
  {
   "cell_type": "markdown",
   "metadata": {},
   "source": [
    "First, we do our standard imports, and grab the USApplication and Assignment objects from patent_client"
   ]
  },
  {
   "cell_type": "code",
   "execution_count": 46,
   "metadata": {},
   "outputs": [],
   "source": [
    "import pandas as pd\n",
    "from patent_client import USApplication, Assignment\n",
    "\n",
    "company_name = 'Luminopia'"
   ]
  },
  {
   "cell_type": "markdown",
   "metadata": {},
   "source": [
    "### Step 1.a: Collect all applications naming the company as applicant"
   ]
  },
  {
   "cell_type": "code",
   "execution_count": 47,
   "metadata": {},
   "outputs": [],
   "source": [
    "applicant_apps = USApplication.objects.filter(first_named_applicant=company_name).values_list('appl_id', flat=True).to_list()"
   ]
  },
  {
   "cell_type": "markdown",
   "metadata": {},
   "source": [
    "### Step 1.b: Collect all applications assigned to the company"
   ]
  },
  {
   "cell_type": "code",
   "execution_count": 48,
   "metadata": {},
   "outputs": [],
   "source": [
    "# The assigned apps is either a single value, or a list of values if more than one property was assigned\n",
    "assigned_apps = Assignment.objects.filter(assignee=company_name).explode('properties').values_list('appl_id', flat=True).to_list()"
   ]
  },
  {
   "cell_type": "markdown",
   "metadata": {},
   "source": [
    "And now we combine the two"
   ]
  },
  {
   "cell_type": "code",
   "execution_count": 49,
   "metadata": {},
   "outputs": [
    {
     "name": "stdout",
     "output_type": "stream",
     "text": [
      "Total U.S. Applications Ever Owned by Luminopia: 4\n"
     ]
    }
   ],
   "source": [
    "all_apps = set(list(applicant_apps + assigned_apps))\n",
    "\n",
    "print(f'Total U.S. Applications Ever Owned by {company_name}: {len(all_apps)}')"
   ]
  },
  {
   "cell_type": "markdown",
   "metadata": {},
   "source": [
    "### Step 2: Collect all applications ever assigned out of the company"
   ]
  },
  {
   "cell_type": "code",
   "execution_count": 50,
   "metadata": {},
   "outputs": [
    {
     "name": "stdout",
     "output_type": "stream",
     "text": [
      "U.S. Applications assigned out of Luminopia: 1\n"
     ]
    }
   ],
   "source": [
    "assigned_out_apps = set(Assignment.objects.filter(assignor=company_name).to_pandas()\n",
    "                   .query('conveyance_text == \"ASSIGNMENT OF ASSIGNORS INTEREST\"')\n",
    "                   .properties.explode().apply(lambda x: x.appl_id).to_list())\n",
    "print(f'U.S. Applications assigned out of {company_name}: {len(assigned_out_apps)}')"
   ]
  },
  {
   "cell_type": "markdown",
   "metadata": {},
   "source": [
    "### Step 3: Subtract one set from the other"
   ]
  },
  {
   "cell_type": "code",
   "execution_count": 51,
   "metadata": {},
   "outputs": [
    {
     "data": {
      "text/plain": [
       "4"
      ]
     },
     "execution_count": 51,
     "metadata": {},
     "output_type": "execute_result"
    }
   ],
   "source": [
    "owned_apps = list(set(all_apps) - set(assigned_out_apps))\n",
    "len(owned_apps)\n"
   ]
  },
  {
   "cell_type": "code",
   "execution_count": 52,
   "metadata": {},
   "outputs": [
    {
     "data": {
      "text/plain": [
       "['16420557', 'PCT/US17/27629', None, '62323284']"
      ]
     },
     "execution_count": 52,
     "metadata": {},
     "output_type": "execute_result"
    }
   ],
   "source": [
    "owned_apps"
   ]
  },
  {
   "cell_type": "markdown",
   "metadata": {},
   "source": [
    "### Step 4: Generate status report"
   ]
  },
  {
   "cell_type": "code",
   "execution_count": 53,
   "metadata": {},
   "outputs": [
    {
     "data": {
      "text/html": [
       "<div>\n",
       "<style scoped>\n",
       "    .dataframe tbody tr th:only-of-type {\n",
       "        vertical-align: middle;\n",
       "    }\n",
       "\n",
       "    .dataframe tbody tr th {\n",
       "        vertical-align: top;\n",
       "    }\n",
       "\n",
       "    .dataframe thead th {\n",
       "        text-align: right;\n",
       "    }\n",
       "</style>\n",
       "<table border=\"1\" class=\"dataframe\">\n",
       "  <thead>\n",
       "    <tr style=\"text-align: right;\">\n",
       "      <th></th>\n",
       "      <th>appl_id</th>\n",
       "      <th>app_filing_date</th>\n",
       "      <th>patent_number</th>\n",
       "      <th>patent_issue_date</th>\n",
       "      <th>patent_title</th>\n",
       "      <th>inventors.0.name</th>\n",
       "      <th>applicants.0.name</th>\n",
       "      <th>app_status</th>\n",
       "      <th>app_status_date</th>\n",
       "      <th>expiration.initial_term</th>\n",
       "      <th>expiration.pta_or_pte</th>\n",
       "      <th>expiration.extended_term</th>\n",
       "      <th>expiration.terminal_disclaimer_filed</th>\n",
       "    </tr>\n",
       "  </thead>\n",
       "  <tbody>\n",
       "    <tr>\n",
       "      <th>0</th>\n",
       "      <td>16420557</td>\n",
       "      <td>2019-05-23</td>\n",
       "      <td>None</td>\n",
       "      <td>None</td>\n",
       "      <td>Visual disorder treatment</td>\n",
       "      <td>Travers; Dean</td>\n",
       "      <td>Luminopia, Inc.;</td>\n",
       "      <td>Final Rejection Mailed</td>\n",
       "      <td>2022-07-12</td>\n",
       "      <td>None</td>\n",
       "      <td>None</td>\n",
       "      <td>None</td>\n",
       "      <td>None</td>\n",
       "    </tr>\n",
       "    <tr>\n",
       "      <th>1</th>\n",
       "      <td>PCT/US17/27629</td>\n",
       "      <td>2017-04-14</td>\n",
       "      <td>None</td>\n",
       "      <td>None</td>\n",
       "      <td>METHODS AND HEAD-MOUNTED APPARATUS FOR VISUAL ...</td>\n",
       "      <td>WENDLAND; ALEXANDER</td>\n",
       "      <td>LUMINOPIA, INC.;</td>\n",
       "      <td>RO PROCESSING COMPLETED-PLACED IN STORAGE</td>\n",
       "      <td>2017-04-20</td>\n",
       "      <td>None</td>\n",
       "      <td>None</td>\n",
       "      <td>None</td>\n",
       "      <td>None</td>\n",
       "    </tr>\n",
       "    <tr>\n",
       "      <th>2</th>\n",
       "      <td>62323284</td>\n",
       "      <td>2016-04-15</td>\n",
       "      <td>None</td>\n",
       "      <td>None</td>\n",
       "      <td>Treatment of Visual Disorders and Conditions w...</td>\n",
       "      <td>Travers; Dean</td>\n",
       "      <td>Luminopia, Inc.;</td>\n",
       "      <td>Provisional Application Expired</td>\n",
       "      <td>2017-04-16</td>\n",
       "      <td>None</td>\n",
       "      <td>None</td>\n",
       "      <td>None</td>\n",
       "      <td>None</td>\n",
       "    </tr>\n",
       "  </tbody>\n",
       "</table>\n",
       "</div>"
      ],
      "text/plain": [
       "          appl_id app_filing_date patent_number patent_issue_date  \\\n",
       "0        16420557      2019-05-23          None              None   \n",
       "1  PCT/US17/27629      2017-04-14          None              None   \n",
       "2        62323284      2016-04-15          None              None   \n",
       "\n",
       "                                        patent_title     inventors.0.name  \\\n",
       "0                          Visual disorder treatment        Travers; Dean   \n",
       "1  METHODS AND HEAD-MOUNTED APPARATUS FOR VISUAL ...  WENDLAND; ALEXANDER   \n",
       "2  Treatment of Visual Disorders and Conditions w...        Travers; Dean   \n",
       "\n",
       "  applicants.0.name                                 app_status  \\\n",
       "0  Luminopia, Inc.;                     Final Rejection Mailed   \n",
       "1  LUMINOPIA, INC.;  RO PROCESSING COMPLETED-PLACED IN STORAGE   \n",
       "2  Luminopia, Inc.;            Provisional Application Expired   \n",
       "\n",
       "  app_status_date expiration.initial_term expiration.pta_or_pte  \\\n",
       "0      2022-07-12                    None                  None   \n",
       "1      2017-04-20                    None                  None   \n",
       "2      2017-04-16                    None                  None   \n",
       "\n",
       "  expiration.extended_term expiration.terminal_disclaimer_filed  \n",
       "0                     None                                 None  \n",
       "1                     None                                 None  \n",
       "2                     None                                 None  "
      ]
     },
     "execution_count": 53,
     "metadata": {},
     "output_type": "execute_result"
    }
   ],
   "source": [
    "import pandas as pd\n",
    "from patent_client.parser import parse\n",
    "\n",
    "us_df = USApplication.objects.filter(appl_id=owned_apps).values(\n",
    "    'appl_id', \n",
    "    'app_filing_date', \n",
    "    'patent_number',\n",
    "    'patent_issue_date',\n",
    "    'patent_title',\n",
    "    'inventors.0.name',\n",
    "    'applicants.0.name',\n",
    "    'app_status',\n",
    "    'app_status_date',\n",
    "    'expiration.initial_term',\n",
    "    'expiration.pta_or_pte',\n",
    "    'expiration.extended_term',\n",
    "    'expiration.terminal_disclaimer_filed',\n",
    ").to_pandas()\n",
    "\n",
    "us_df"
   ]
  },
  {
   "cell_type": "markdown",
   "metadata": {},
   "source": [
    "### Foreign Patent Portfolio\n",
    "\n",
    "Now we will fetch the company's wordwide portfolio, as it appears in the Inpadoc system maintained by the EPO"
   ]
  },
  {
   "cell_type": "code",
   "execution_count": 54,
   "metadata": {},
   "outputs": [],
   "source": [
    "from patent_client import Inpadoc\n",
    "\n",
    "foreign = Inpadoc.objects.filter(applicant=company_name)"
   ]
  },
  {
   "cell_type": "markdown",
   "metadata": {},
   "source": [
    "And now, a status report:"
   ]
  },
  {
   "cell_type": "code",
   "execution_count": 55,
   "metadata": {},
   "outputs": [
    {
     "data": {
      "text/html": [
       "<div>\n",
       "<style scoped>\n",
       "    .dataframe tbody tr th:only-of-type {\n",
       "        vertical-align: middle;\n",
       "    }\n",
       "\n",
       "    .dataframe tbody tr th {\n",
       "        vertical-align: top;\n",
       "    }\n",
       "\n",
       "    .dataframe thead th {\n",
       "        text-align: right;\n",
       "    }\n",
       "</style>\n",
       "<table border=\"1\" class=\"dataframe\">\n",
       "  <thead>\n",
       "    <tr style=\"text-align: right;\">\n",
       "      <th></th>\n",
       "      <th>country</th>\n",
       "      <th>appl_id</th>\n",
       "      <th>app_filing_date</th>\n",
       "      <th>pub_number</th>\n",
       "      <th>pub_date</th>\n",
       "      <th>title</th>\n",
       "      <th>applicant</th>\n",
       "      <th>first_named_inventor</th>\n",
       "    </tr>\n",
       "  </thead>\n",
       "  <tbody>\n",
       "    <tr>\n",
       "      <th>0</th>\n",
       "      <td>WO</td>\n",
       "      <td>WO2017US27629</td>\n",
       "      <td>2017-04-14</td>\n",
       "      <td>WO2017181010</td>\n",
       "      <td>2017-10-19</td>\n",
       "      <td>METHODS AND HEAD-MOUNTED APPARATUS FOR VISUAL ...</td>\n",
       "      <td>LUMINOPIA INC [US]</td>\n",
       "      <td>TRAVERS DEAN [US]</td>\n",
       "    </tr>\n",
       "  </tbody>\n",
       "</table>\n",
       "</div>"
      ],
      "text/plain": [
       "  country        appl_id app_filing_date    pub_number    pub_date  \\\n",
       "0      WO  WO2017US27629      2017-04-14  WO2017181010  2017-10-19   \n",
       "\n",
       "                                               title           applicant  \\\n",
       "0  METHODS AND HEAD-MOUNTED APPARATUS FOR VISUAL ...  LUMINOPIA INC [US]   \n",
       "\n",
       "  first_named_inventor  \n",
       "0    TRAVERS DEAN [US]  "
      ]
     },
     "execution_count": 55,
     "metadata": {},
     "output_type": "execute_result"
    }
   ],
   "source": [
    "foreign_df = foreign.values(\n",
    "    'country', \n",
    "    appl_id='biblio.application_reference_epodoc.number', \n",
    "    app_filing_date='biblio.application_reference_epodoc.date', \n",
    "    pub_number='biblio.publication_reference_epodoc.number', \n",
    "    pub_date='biblio.publication_reference_epodoc.date', \n",
    "    title='biblio.title', \n",
    "    applicant='biblio.applicants_epodoc.0', \n",
    "    first_named_inventor='biblio.inventors_epodoc.0').to_pandas()\n",
    "foreign_df = foreign_df[foreign_df['country'] != 'US']\n",
    "foreign_df"
   ]
  },
  {
   "cell_type": "markdown",
   "metadata": {},
   "source": [
    "And now we will take our results, and write to an excel file"
   ]
  },
  {
   "cell_type": "code",
   "execution_count": 45,
   "metadata": {},
   "outputs": [
    {
     "name": "stderr",
     "output_type": "stream",
     "text": [
      "/var/folders/bt/s4hv2ltx71nf43jxmddn4s5h0000gn/T/ipykernel_11834/622620193.py:4: FutureWarning: save is not part of the public API, usage can give in unexpected results and will be removed in a future version\n",
      "  writer.save()\n"
     ]
    }
   ],
   "source": [
    "writer = pd.ExcelWriter(f'/Users/parkerhancock/{company_name}_portfolio.xlsx')\n",
    "us_df.to_excel(writer, sheet_name='US Portfolio')\n",
    "foreign_df.to_excel(writer, sheet_name='Foreign Portfolio')\n",
    "writer.save()"
   ]
  },
  {
   "cell_type": "code",
   "execution_count": null,
   "metadata": {},
   "outputs": [],
   "source": []
  }
 ],
 "metadata": {
  "kernelspec": {
   "display_name": "Python 3 (ipykernel)",
   "language": "python",
   "name": "python3"
  },
  "language_info": {
   "codemirror_mode": {
    "name": "ipython",
    "version": 3
   },
   "file_extension": ".py",
   "mimetype": "text/x-python",
   "name": "python",
   "nbconvert_exporter": "python",
   "pygments_lexer": "ipython3",
   "version": "3.10.6"
  }
 },
 "nbformat": 4,
 "nbformat_minor": 4
}
